{
 "cells": [
  {
   "cell_type": "markdown",
   "id": "f53523db",
   "metadata": {},
   "source": [
    "# Homework 1\n",
    "- team members:\n",
    "Zhao Chen, Chen Li, Jiaying Wu\n",
    "\n",
    "## - Problem 1 \n",
    "**All members of the team have finished the survey.**\n",
    "\n",
    "## - Problem 2\n",
    "**All members of the team have successfully installed Jupyter Notebook on computers**"
   ]
  },
  {
   "cell_type": "markdown",
   "id": "f66fd949",
   "metadata": {},
   "source": [
    "## - Problem 3"
   ]
  },
  {
   "cell_type": "code",
   "execution_count": 82,
   "id": "ef968a50",
   "metadata": {},
   "outputs": [],
   "source": [
    "#Import Python Libraries\n",
    "import numpy as np\n",
    "import pandas as pd\n",
    "import matplotlib.pyplot as plt"
   ]
  },
  {
   "cell_type": "markdown",
   "id": "411e2b2a",
   "metadata": {},
   "source": [
    "### (1) Display the last 5 records"
   ]
  },
  {
   "cell_type": "code",
   "execution_count": 83,
   "id": "9a7c9471",
   "metadata": {},
   "outputs": [
    {
     "data": {
      "text/html": [
       "<div>\n",
       "<style scoped>\n",
       "    .dataframe tbody tr th:only-of-type {\n",
       "        vertical-align: middle;\n",
       "    }\n",
       "\n",
       "    .dataframe tbody tr th {\n",
       "        vertical-align: top;\n",
       "    }\n",
       "\n",
       "    .dataframe thead th {\n",
       "        text-align: right;\n",
       "    }\n",
       "</style>\n",
       "<table border=\"1\" class=\"dataframe\">\n",
       "  <thead>\n",
       "    <tr style=\"text-align: right;\">\n",
       "      <th></th>\n",
       "      <th>Customer</th>\n",
       "      <th>Clv</th>\n",
       "      <th>Coverage</th>\n",
       "      <th>Education</th>\n",
       "      <th>EmploymentStatus</th>\n",
       "      <th>Gender</th>\n",
       "      <th>Income</th>\n",
       "      <th>Location</th>\n",
       "      <th>Marital</th>\n",
       "      <th>Policiesnum</th>\n",
       "      <th>Policytype</th>\n",
       "      <th>Saleschannel</th>\n",
       "    </tr>\n",
       "  </thead>\n",
       "  <tbody>\n",
       "    <tr>\n",
       "      <th>9129</th>\n",
       "      <td>LA72316</td>\n",
       "      <td>23405.987980</td>\n",
       "      <td>Basic</td>\n",
       "      <td>Bachelor</td>\n",
       "      <td>Employed</td>\n",
       "      <td>M</td>\n",
       "      <td>71941</td>\n",
       "      <td>Urban</td>\n",
       "      <td>Married</td>\n",
       "      <td>2</td>\n",
       "      <td>Personal Auto</td>\n",
       "      <td>Web</td>\n",
       "    </tr>\n",
       "    <tr>\n",
       "      <th>9130</th>\n",
       "      <td>PK87824</td>\n",
       "      <td>3096.511217</td>\n",
       "      <td>Extended</td>\n",
       "      <td>College</td>\n",
       "      <td>Employed</td>\n",
       "      <td>F</td>\n",
       "      <td>21604</td>\n",
       "      <td>Suburban</td>\n",
       "      <td>Divorced</td>\n",
       "      <td>1</td>\n",
       "      <td>Corporate Auto</td>\n",
       "      <td>Branch</td>\n",
       "    </tr>\n",
       "    <tr>\n",
       "      <th>9131</th>\n",
       "      <td>TD14365</td>\n",
       "      <td>8163.890428</td>\n",
       "      <td>Extended</td>\n",
       "      <td>Bachelor</td>\n",
       "      <td>Unemployed</td>\n",
       "      <td>M</td>\n",
       "      <td>0</td>\n",
       "      <td>Suburban</td>\n",
       "      <td>Single</td>\n",
       "      <td>2</td>\n",
       "      <td>Corporate Auto</td>\n",
       "      <td>Branch</td>\n",
       "    </tr>\n",
       "    <tr>\n",
       "      <th>9132</th>\n",
       "      <td>UP19263</td>\n",
       "      <td>7524.442436</td>\n",
       "      <td>Extended</td>\n",
       "      <td>College</td>\n",
       "      <td>Employed</td>\n",
       "      <td>M</td>\n",
       "      <td>21941</td>\n",
       "      <td>Suburban</td>\n",
       "      <td>Married</td>\n",
       "      <td>3</td>\n",
       "      <td>Personal Auto</td>\n",
       "      <td>Branch</td>\n",
       "    </tr>\n",
       "    <tr>\n",
       "      <th>9133</th>\n",
       "      <td>Y167826</td>\n",
       "      <td>2611.836866</td>\n",
       "      <td>Extended</td>\n",
       "      <td>College</td>\n",
       "      <td>Unemployed</td>\n",
       "      <td>M</td>\n",
       "      <td>0</td>\n",
       "      <td>Suburban</td>\n",
       "      <td>Single</td>\n",
       "      <td>1</td>\n",
       "      <td>Corporate Auto</td>\n",
       "      <td>Call Center</td>\n",
       "    </tr>\n",
       "  </tbody>\n",
       "</table>\n",
       "</div>"
      ],
      "text/plain": [
       "     Customer           Clv  Coverage Education EmploymentStatus Gender  \\\n",
       "9129  LA72316  23405.987980     Basic  Bachelor         Employed      M   \n",
       "9130  PK87824   3096.511217  Extended   College         Employed      F   \n",
       "9131  TD14365   8163.890428  Extended  Bachelor       Unemployed      M   \n",
       "9132  UP19263   7524.442436  Extended   College         Employed      M   \n",
       "9133  Y167826   2611.836866  Extended   College       Unemployed      M   \n",
       "\n",
       "      Income Location   Marital   Policiesnum      Policytype Saleschannel  \n",
       "9129   71941     Urban   Married            2   Personal Auto          Web  \n",
       "9130   21604  Suburban  Divorced            1  Corporate Auto       Branch  \n",
       "9131       0  Suburban    Single            2  Corporate Auto       Branch  \n",
       "9132   21941  Suburban   Married            3   Personal Auto       Branch  \n",
       "9133       0  Suburban    Single            1  Corporate Auto  Call Center  "
      ]
     },
     "execution_count": 83,
     "metadata": {},
     "output_type": "execute_result"
    }
   ],
   "source": [
    "#Read csv file and give it a name\n",
    "data1=pd.read_csv(\"https://raw.githubusercontent.com/wangx346/MAS651/main/customer_lifetime_value.csv\") \n",
    "\n",
    "#Display the last 5 records\n",
    "data1.tail(5)\n"
   ]
  },
  {
   "cell_type": "markdown",
   "id": "cabb7383",
   "metadata": {},
   "source": [
    "### (2) Find the number of rows and columns of the data "
   ]
  },
  {
   "cell_type": "code",
   "execution_count": 84,
   "id": "54d41c28",
   "metadata": {},
   "outputs": [
    {
     "data": {
      "text/plain": [
       "(9134, 12)"
      ]
     },
     "execution_count": 84,
     "metadata": {},
     "output_type": "execute_result"
    }
   ],
   "source": [
    "data1.shape"
   ]
  },
  {
   "cell_type": "markdown",
   "id": "1b4b0fee",
   "metadata": {},
   "source": [
    "There are 9134 of rows and 12 columns in the data"
   ]
  },
  {
   "cell_type": "markdown",
   "id": "7299e1a8",
   "metadata": {},
   "source": [
    "### (3) Output basic statistics for the numeric columns"
   ]
  },
  {
   "cell_type": "code",
   "execution_count": 85,
   "id": "178ab15c",
   "metadata": {},
   "outputs": [
    {
     "data": {
      "text/html": [
       "<div>\n",
       "<style scoped>\n",
       "    .dataframe tbody tr th:only-of-type {\n",
       "        vertical-align: middle;\n",
       "    }\n",
       "\n",
       "    .dataframe tbody tr th {\n",
       "        vertical-align: top;\n",
       "    }\n",
       "\n",
       "    .dataframe thead th {\n",
       "        text-align: right;\n",
       "    }\n",
       "</style>\n",
       "<table border=\"1\" class=\"dataframe\">\n",
       "  <thead>\n",
       "    <tr style=\"text-align: right;\">\n",
       "      <th></th>\n",
       "      <th>Clv</th>\n",
       "      <th>Income</th>\n",
       "      <th>Policiesnum</th>\n",
       "    </tr>\n",
       "  </thead>\n",
       "  <tbody>\n",
       "    <tr>\n",
       "      <th>count</th>\n",
       "      <td>9134.000000</td>\n",
       "      <td>9134.000000</td>\n",
       "      <td>9134.000000</td>\n",
       "    </tr>\n",
       "    <tr>\n",
       "      <th>mean</th>\n",
       "      <td>8004.940475</td>\n",
       "      <td>37657.380009</td>\n",
       "      <td>2.966170</td>\n",
       "    </tr>\n",
       "    <tr>\n",
       "      <th>std</th>\n",
       "      <td>6870.967608</td>\n",
       "      <td>30379.904734</td>\n",
       "      <td>2.390182</td>\n",
       "    </tr>\n",
       "    <tr>\n",
       "      <th>min</th>\n",
       "      <td>1898.007675</td>\n",
       "      <td>0.000000</td>\n",
       "      <td>1.000000</td>\n",
       "    </tr>\n",
       "    <tr>\n",
       "      <th>25%</th>\n",
       "      <td>3994.251794</td>\n",
       "      <td>0.000000</td>\n",
       "      <td>1.000000</td>\n",
       "    </tr>\n",
       "    <tr>\n",
       "      <th>50%</th>\n",
       "      <td>5780.182197</td>\n",
       "      <td>33889.500000</td>\n",
       "      <td>2.000000</td>\n",
       "    </tr>\n",
       "    <tr>\n",
       "      <th>75%</th>\n",
       "      <td>8962.167041</td>\n",
       "      <td>62320.000000</td>\n",
       "      <td>4.000000</td>\n",
       "    </tr>\n",
       "    <tr>\n",
       "      <th>max</th>\n",
       "      <td>83325.381190</td>\n",
       "      <td>99981.000000</td>\n",
       "      <td>9.000000</td>\n",
       "    </tr>\n",
       "  </tbody>\n",
       "</table>\n",
       "</div>"
      ],
      "text/plain": [
       "                Clv        Income  Policiesnum\n",
       "count   9134.000000   9134.000000  9134.000000\n",
       "mean    8004.940475  37657.380009     2.966170\n",
       "std     6870.967608  30379.904734     2.390182\n",
       "min     1898.007675      0.000000     1.000000\n",
       "25%     3994.251794      0.000000     1.000000\n",
       "50%     5780.182197  33889.500000     2.000000\n",
       "75%     8962.167041  62320.000000     4.000000\n",
       "max    83325.381190  99981.000000     9.000000"
      ]
     },
     "execution_count": 85,
     "metadata": {},
     "output_type": "execute_result"
    }
   ],
   "source": [
    "data1.describe()"
   ]
  },
  {
   "cell_type": "markdown",
   "id": "a2d3d63f",
   "metadata": {},
   "source": [
    "### (4) Find the mean and standard deviation of the variable Clv, which denotes customer lifetime value "
   ]
  },
  {
   "cell_type": "code",
   "execution_count": 86,
   "id": "dba7cb5f",
   "metadata": {},
   "outputs": [
    {
     "data": {
      "text/plain": [
       "8004.9404749870755"
      ]
     },
     "execution_count": 86,
     "metadata": {},
     "output_type": "execute_result"
    }
   ],
   "source": [
    "# the mean of Clv\n",
    "data1['Clv'].mean()"
   ]
  },
  {
   "cell_type": "code",
   "execution_count": 87,
   "id": "441e78eb",
   "metadata": {},
   "outputs": [
    {
     "data": {
      "text/plain": [
       "6870.967608356924"
      ]
     },
     "execution_count": 87,
     "metadata": {},
     "output_type": "execute_result"
    }
   ],
   "source": [
    "# the standard deviation of Clv\n",
    "data1['Clv'].std()"
   ]
  },
  {
   "cell_type": "markdown",
   "id": "a17562fb",
   "metadata": {},
   "source": [
    "### (5) Extract the column Education and print the first 7 records "
   ]
  },
  {
   "cell_type": "code",
   "execution_count": 88,
   "id": "ae0ff204",
   "metadata": {},
   "outputs": [
    {
     "data": {
      "text/plain": [
       "0    Bachelor\n",
       "1    Bachelor\n",
       "2    Bachelor\n",
       "3    Bachelor\n",
       "4    Bachelor\n",
       "5    Bachelor\n",
       "6     College\n",
       "Name: Education, dtype: object"
      ]
     },
     "execution_count": 88,
     "metadata": {},
     "output_type": "execute_result"
    }
   ],
   "source": [
    "data1['Education'].head(7)"
   ]
  },
  {
   "cell_type": "markdown",
   "id": "3cbe1375",
   "metadata": {},
   "source": [
    "### (6) Group the data using education and name the data set data1_edu "
   ]
  },
  {
   "cell_type": "code",
   "execution_count": 89,
   "id": "d6533124",
   "metadata": {},
   "outputs": [],
   "source": [
    "data1_edu=data1.groupby(['Education'])"
   ]
  },
  {
   "cell_type": "markdown",
   "id": "72439093",
   "metadata": {},
   "source": [
    "### (7) Calculate the mean of Clv for the grouped data "
   ]
  },
  {
   "cell_type": "code",
   "execution_count": 90,
   "id": "e0355249",
   "metadata": {},
   "outputs": [
    {
     "data": {
      "text/html": [
       "<div>\n",
       "<style scoped>\n",
       "    .dataframe tbody tr th:only-of-type {\n",
       "        vertical-align: middle;\n",
       "    }\n",
       "\n",
       "    .dataframe tbody tr th {\n",
       "        vertical-align: top;\n",
       "    }\n",
       "\n",
       "    .dataframe thead th {\n",
       "        text-align: right;\n",
       "    }\n",
       "</style>\n",
       "<table border=\"1\" class=\"dataframe\">\n",
       "  <thead>\n",
       "    <tr style=\"text-align: right;\">\n",
       "      <th></th>\n",
       "      <th>Clv</th>\n",
       "    </tr>\n",
       "    <tr>\n",
       "      <th>Education</th>\n",
       "      <th></th>\n",
       "    </tr>\n",
       "  </thead>\n",
       "  <tbody>\n",
       "    <tr>\n",
       "      <th>Bachelor</th>\n",
       "      <td>7872.660412</td>\n",
       "    </tr>\n",
       "    <tr>\n",
       "      <th>College</th>\n",
       "      <td>7851.064644</td>\n",
       "    </tr>\n",
       "    <tr>\n",
       "      <th>Doctor</th>\n",
       "      <td>7520.344837</td>\n",
       "    </tr>\n",
       "    <tr>\n",
       "      <th>High School or Below</th>\n",
       "      <td>8296.709033</td>\n",
       "    </tr>\n",
       "    <tr>\n",
       "      <th>Master</th>\n",
       "      <td>8243.484692</td>\n",
       "    </tr>\n",
       "  </tbody>\n",
       "</table>\n",
       "</div>"
      ],
      "text/plain": [
       "                              Clv\n",
       "Education                        \n",
       "Bachelor              7872.660412\n",
       "College               7851.064644\n",
       "Doctor                7520.344837\n",
       "High School or Below  8296.709033\n",
       "Master                8243.484692"
      ]
     },
     "execution_count": 90,
     "metadata": {},
     "output_type": "execute_result"
    }
   ],
   "source": [
    "data1_edu[['Clv']].mean()"
   ]
  },
  {
   "cell_type": "markdown",
   "id": "1e1e0efd",
   "metadata": {},
   "source": [
    "### (8) Group using two variables Education and Gender, then calculate the mean of Clv "
   ]
  },
  {
   "cell_type": "code",
   "execution_count": 91,
   "id": "064edbe0",
   "metadata": {},
   "outputs": [
    {
     "data": {
      "text/html": [
       "<div>\n",
       "<style scoped>\n",
       "    .dataframe tbody tr th:only-of-type {\n",
       "        vertical-align: middle;\n",
       "    }\n",
       "\n",
       "    .dataframe tbody tr th {\n",
       "        vertical-align: top;\n",
       "    }\n",
       "\n",
       "    .dataframe thead th {\n",
       "        text-align: right;\n",
       "    }\n",
       "</style>\n",
       "<table border=\"1\" class=\"dataframe\">\n",
       "  <thead>\n",
       "    <tr style=\"text-align: right;\">\n",
       "      <th></th>\n",
       "      <th></th>\n",
       "      <th>Clv</th>\n",
       "    </tr>\n",
       "    <tr>\n",
       "      <th>Education</th>\n",
       "      <th>Gender</th>\n",
       "      <th></th>\n",
       "    </tr>\n",
       "  </thead>\n",
       "  <tbody>\n",
       "    <tr>\n",
       "      <th rowspan=\"2\" valign=\"top\">Bachelor</th>\n",
       "      <th>F</th>\n",
       "      <td>8012.877921</td>\n",
       "    </tr>\n",
       "    <tr>\n",
       "      <th>M</th>\n",
       "      <td>7722.072099</td>\n",
       "    </tr>\n",
       "    <tr>\n",
       "      <th rowspan=\"2\" valign=\"top\">College</th>\n",
       "      <th>F</th>\n",
       "      <td>7732.833339</td>\n",
       "    </tr>\n",
       "    <tr>\n",
       "      <th>M</th>\n",
       "      <td>7971.342089</td>\n",
       "    </tr>\n",
       "    <tr>\n",
       "      <th rowspan=\"2\" valign=\"top\">Doctor</th>\n",
       "      <th>F</th>\n",
       "      <td>7423.630380</td>\n",
       "    </tr>\n",
       "    <tr>\n",
       "      <th>M</th>\n",
       "      <td>7614.823122</td>\n",
       "    </tr>\n",
       "    <tr>\n",
       "      <th rowspan=\"2\" valign=\"top\">High School or Below</th>\n",
       "      <th>F</th>\n",
       "      <td>8578.995840</td>\n",
       "    </tr>\n",
       "    <tr>\n",
       "      <th>M</th>\n",
       "      <td>8010.082690</td>\n",
       "    </tr>\n",
       "    <tr>\n",
       "      <th rowspan=\"2\" valign=\"top\">Master</th>\n",
       "      <th>F</th>\n",
       "      <td>8319.111562</td>\n",
       "    </tr>\n",
       "    <tr>\n",
       "      <th>M</th>\n",
       "      <td>8158.078485</td>\n",
       "    </tr>\n",
       "  </tbody>\n",
       "</table>\n",
       "</div>"
      ],
      "text/plain": [
       "                                     Clv\n",
       "Education            Gender             \n",
       "Bachelor             F       8012.877921\n",
       "                     M       7722.072099\n",
       "College              F       7732.833339\n",
       "                     M       7971.342089\n",
       "Doctor               F       7423.630380\n",
       "                     M       7614.823122\n",
       "High School or Below F       8578.995840\n",
       "                     M       8010.082690\n",
       "Master               F       8319.111562\n",
       "                     M       8158.078485"
      ]
     },
     "execution_count": 91,
     "metadata": {},
     "output_type": "execute_result"
    }
   ],
   "source": [
    "data1.groupby(['Education','Gender'],sort=True)[['Clv']].mean()"
   ]
  },
  {
   "cell_type": "markdown",
   "id": "d415b76f",
   "metadata": {},
   "source": [
    "### (9) Make a histogram of Clv "
   ]
  },
  {
   "cell_type": "code",
   "execution_count": 92,
   "id": "99b1e238",
   "metadata": {},
   "outputs": [
    {
     "data": {
      "image/png": "[encoded data removed]",
      "text/plain": [
       "<Figure size 432x288 with 1 Axes>"
      ]
     },
     "metadata": {
      "needs_background": "light"
     },
     "output_type": "display_data"
    }
   ],
   "source": [
    "plt.hist(data1['Clv'])\n",
    "plt.show()"
   ]
  }
 ],
 "metadata": {
  "kernelspec": {
   "display_name": "Python 3 (ipykernel)",
   "language": "python",
   "name": "python3"
  },
  "language_info": {
   "codemirror_mode": {
    "name": "ipython",
    "version": 3
   },
   "file_extension": ".py",
   "mimetype": "text/x-python",
   "name": "python",
   "nbconvert_exporter": "python",
   "pygments_lexer": "ipython3",
   "version": "3.9.7"
  }
 },
 "nbformat": 4,
 "nbformat_minor": 5
}
