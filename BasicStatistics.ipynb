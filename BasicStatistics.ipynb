{
 "cells": [
  {
   "cell_type": "markdown",
   "metadata": {},
   "source": [
    "# Basic statistics in Python"
   ]
  },
  {
   "cell_type": "markdown",
   "metadata": {},
   "source": [
    "## Mean vs. Median"
   ]
  },
  {
   "cell_type": "markdown",
   "metadata": {},
   "source": [
    "Let's create some fake income data, centered around 27,000 with a normal distribution and standard deviation of 15,000, with 10,000 data points. (We'll discuss those terms more later, if you're not familiar with them.)\n",
    "\n",
    "Then, compute the mean (average) - it should be close to 27,000:"
   ]
  },
  {
   "cell_type": "code",
   "execution_count": 1,
   "metadata": {},
   "outputs": [
    {
     "data": {
      "text/plain": [
       "26833.07814417531"
      ]
     },
     "execution_count": 1,
     "metadata": {},
     "output_type": "execute_result"
    }
   ],
   "source": [
    "import numpy as np\n",
    "\n",
    "incomes = np.random.normal(27000, 15000, 10000)\n",
    "np.mean(incomes)"
   ]
  },
  {
   "cell_type": "markdown",
   "metadata": {},
   "source": [
    "We can segment the income data into 50 buckets, and plot it as a histogram:"
   ]
  },
  {
   "cell_type": "code",
   "execution_count": 2,
   "metadata": {},
   "outputs": [
    {
     "data": {
      "image/png": "[encoded data removed]",
      "text/plain": [
       "<Figure size 432x288 with 1 Axes>"
      ]
     },
     "metadata": {
      "needs_background": "light"
     },
     "output_type": "display_data"
    }
   ],
   "source": [
    "%matplotlib inline\n",
    "import matplotlib.pyplot as plt\n",
    "plt.hist(incomes, 50)\n",
    "plt.show()"
   ]
  },
  {
   "cell_type": "markdown",
   "metadata": {},
   "source": [
    "Now compute the median - since we have a nice, even distribution it too should be close to 27,000:"
   ]
  },
  {
   "cell_type": "code",
   "execution_count": 3,
   "metadata": {},
   "outputs": [
    {
     "data": {
      "text/plain": [
       "26862.680205444725"
      ]
     },
     "execution_count": 3,
     "metadata": {},
     "output_type": "execute_result"
    }
   ],
   "source": [
    "np.median(incomes)"
   ]
  },
  {
   "cell_type": "markdown",
   "metadata": {},
   "source": [
    "Now we'll add a high income "
   ]
  },
  {
   "cell_type": "code",
   "execution_count": 6,
   "metadata": {},
   "outputs": [],
   "source": [
    "incomes = np.append(incomes, [1000000000])"
   ]
  },
  {
   "cell_type": "markdown",
   "metadata": {},
   "source": [
    "The median won't change much, but the mean does:"
   ]
  },
  {
   "cell_type": "code",
   "execution_count": 7,
   "metadata": {},
   "outputs": [
    {
     "data": {
      "text/plain": [
       "26864.487678200752"
      ]
     },
     "execution_count": 7,
     "metadata": {},
     "output_type": "execute_result"
    }
   ],
   "source": [
    "np.median(incomes)"
   ]
  },
  {
   "cell_type": "code",
   "execution_count": 8,
   "metadata": {},
   "outputs": [
    {
     "data": {
      "text/plain": [
       "126820.39610456486"
      ]
     },
     "execution_count": 8,
     "metadata": {},
     "output_type": "execute_result"
    }
   ],
   "source": [
    "np.mean(incomes)"
   ]
  },
  {
   "cell_type": "markdown",
   "metadata": {},
   "source": [
    "## Mode"
   ]
  },
  {
   "cell_type": "markdown",
   "metadata": {},
   "source": [
    "Next, let's generate some fake age data for 500 people:"
   ]
  },
  {
   "cell_type": "code",
   "execution_count": 9,
   "metadata": {},
   "outputs": [
    {
     "data": {
      "text/plain": [
       "array([59, 30, 85, 46, 59, 30, 24, 87, 86, 22, 71, 35, 82, 87, 37, 37, 59,\n",
       "       22, 81, 67, 35, 21, 33, 45, 76, 40, 62, 57, 84, 70, 27, 51, 23, 79,\n",
       "       30, 31, 29, 58, 49, 18, 38, 89, 73, 26, 75, 60, 45, 73, 70, 56, 24,\n",
       "       83, 74, 27, 62, 39, 44, 84, 29, 74, 42, 24, 71, 55, 31, 70, 75, 28,\n",
       "       38, 25, 75, 20, 73, 50, 40, 49, 49, 63, 19, 48, 57, 44, 89, 22, 22,\n",
       "       60, 74, 47, 83, 74, 44, 52, 75, 41, 64, 89, 23, 88, 87, 34, 43, 61,\n",
       "       54, 21, 53, 51, 48, 38, 78, 53, 24, 82, 31, 75, 33, 66, 43, 41, 59,\n",
       "       50, 53, 33, 47, 47, 72, 77, 87, 22, 73, 70, 82, 58, 21, 84, 72, 57,\n",
       "       45, 25, 33, 49, 79, 40, 27, 22, 68, 57, 31, 21, 66, 60, 34, 35, 48,\n",
       "       21, 37, 83, 54, 65, 72, 43, 74, 30, 82, 72, 69, 71, 22, 31, 55, 75,\n",
       "       61, 78, 86, 35, 27, 19, 75, 28, 88, 88, 87, 76, 62, 39, 22, 43, 39,\n",
       "       83, 75, 63, 79, 74, 58, 45, 47, 43, 64, 87, 75, 81, 21, 52, 83, 85,\n",
       "       70, 72, 54, 19, 83, 80, 61, 53, 78, 78, 19, 45, 53, 42, 61, 48, 45,\n",
       "       34, 40, 64, 73, 27, 62, 45, 21, 32, 53, 79, 56, 74, 72, 38, 47, 23,\n",
       "       87, 29, 53, 34, 24, 64, 24, 45, 46, 83, 30, 85, 40, 50, 42, 85, 88,\n",
       "       82, 39, 79, 21, 42, 71, 67, 60, 56, 66, 19, 39, 49, 28, 38, 63, 35,\n",
       "       80, 80, 54, 79, 58, 24, 61, 58, 38, 55, 56, 45, 51, 81, 43, 59, 73,\n",
       "       50, 18, 46, 40, 80, 42, 56, 79, 19, 82, 82, 68, 59, 23, 23, 40, 27,\n",
       "       70, 61, 41, 20, 71, 26, 39, 62, 83, 50, 30, 55, 66, 73, 18, 88, 88,\n",
       "       60, 72, 86, 70, 35, 71, 38, 76, 77, 60, 43, 80, 18, 56, 43, 63, 53,\n",
       "       83, 80, 85, 59, 68, 89, 39, 55, 63, 34, 74, 78, 87, 29, 56, 49, 85,\n",
       "       76, 38, 85, 64, 62, 77, 30, 41, 66, 30, 46, 68, 52, 80, 29, 50, 35,\n",
       "       22, 77, 50, 89, 74, 85, 85, 32, 37, 51, 64, 57, 65, 74, 24, 82, 49,\n",
       "       34, 50, 23, 26, 29, 31, 30, 22, 36, 61, 30, 48, 22, 70, 81, 43, 24,\n",
       "       66, 41, 71, 38, 22, 89, 21, 49, 38, 72, 89, 47, 67, 74, 68, 34, 18,\n",
       "       75, 43, 61, 88, 62, 30, 25, 77, 23, 23, 32, 30, 70, 72, 89, 24, 28,\n",
       "       61, 73, 73, 89, 72, 87, 63, 66, 82, 88, 85, 87, 79, 45, 64, 29, 72,\n",
       "       22, 26, 74, 83, 62, 54, 78, 46, 50, 54, 32, 44, 40, 68, 57, 22, 77,\n",
       "       34, 62, 53, 46, 18, 26, 83, 45, 46, 29, 33, 87, 63, 50, 42, 23, 52,\n",
       "       41, 71, 33, 77, 53, 55, 69])"
      ]
     },
     "execution_count": 9,
     "metadata": {},
     "output_type": "execute_result"
    }
   ],
   "source": [
    "# We generate 500 random integers between 18 and 90 \n",
    "\n",
    "ages = np.random.randint(18, high=90, size=500)\n",
    "ages"
   ]
  },
  {
   "cell_type": "code",
   "execution_count": 10,
   "metadata": {},
   "outputs": [
    {
     "data": {
      "text/plain": [
       "ModeResult(mode=array([22]), count=array([14]))"
      ]
     },
     "execution_count": 10,
     "metadata": {},
     "output_type": "execute_result"
    }
   ],
   "source": [
    "from scipy import stats\n",
    "stats.mode(ages)"
   ]
  },
  {
   "cell_type": "markdown",
   "metadata": {},
   "source": [
    "## Standard Deviation and Variance"
   ]
  },
  {
   "cell_type": "code",
   "execution_count": 11,
   "metadata": {},
   "outputs": [
    {
     "data": {
      "image/png": "[encoded data removed]",
      "text/plain": [
       "<Figure size 432x288 with 1 Axes>"
      ]
     },
     "metadata": {
      "needs_background": "light"
     },
     "output_type": "display_data"
    }
   ],
   "source": [
    "%matplotlib inline\n",
    "import numpy as np\n",
    "import matplotlib.pyplot as plt\n",
    "\n",
    "incomes = np.random.normal(100.0, 50.0, 10000)\n",
    "\n",
    "plt.hist(incomes, 50)\n",
    "plt.show()"
   ]
  },
  {
   "cell_type": "code",
   "execution_count": 12,
   "metadata": {},
   "outputs": [
    {
     "data": {
      "text/plain": [
       "49.942281460673236"
      ]
     },
     "execution_count": 12,
     "metadata": {},
     "output_type": "execute_result"
    }
   ],
   "source": [
    "# standard deviation\n",
    "incomes.std()"
   ]
  },
  {
   "cell_type": "code",
   "execution_count": 13,
   "metadata": {},
   "outputs": [
    {
     "data": {
      "text/plain": [
       "2494.2314774971055"
      ]
     },
     "execution_count": 13,
     "metadata": {},
     "output_type": "execute_result"
    }
   ],
   "source": [
    "# variance\n",
    "incomes.var()"
   ]
  },
  {
   "cell_type": "markdown",
   "metadata": {},
   "source": [
    "## Normal distribution"
   ]
  },
  {
   "cell_type": "code",
   "execution_count": 4,
   "metadata": {},
   "outputs": [
    {
     "data": {
      "text/plain": [
       "[<matplotlib.lines.Line2D at 0x29b22e5d5c8>]"
      ]
     },
     "execution_count": 4,
     "metadata": {},
     "output_type": "execute_result"
    },
    {
     "data": {
      "image/png": "[encoded data removed]",
      "text/plain": [
       "<Figure size 432x288 with 1 Axes>"
      ]
     },
     "metadata": {
      "needs_background": "light"
     },
     "output_type": "display_data"
    }
   ],
   "source": [
    "# Visualize the probability density function of normal distribution\n",
    "%matplotlib inline\n",
    "from scipy.stats import norm\n",
    "import matplotlib.pyplot as plt\n",
    "import numpy as np\n",
    "\n",
    "# np.arange(-3, 3, 0.001) creates an x-axis filled with values between -3 and 3 at increments of 0.001\n",
    "x = np.arange(-3, 3, 0.001)\n",
    "plt.plot(x, norm.pdf(x))"
   ]
  },
  {
   "cell_type": "code",
   "execution_count": 15,
   "metadata": {},
   "outputs": [
    {
     "data": {
      "image/png": "[encoded data removed]",
      "text/plain": [
       "<Figure size 432x288 with 1 Axes>"
      ]
     },
     "metadata": {
      "needs_background": "light"
     },
     "output_type": "display_data"
    }
   ],
   "source": [
    "import numpy as np\n",
    "import matplotlib.pyplot as plt\n",
    "\n",
    "mu = 5.0\n",
    "sigma = 2.0\n",
    "values = np.random.normal(mu, sigma, 10000)\n",
    "plt.hist(values, 50)\n",
    "plt.show()"
   ]
  },
  {
   "cell_type": "code",
   "execution_count": 16,
   "metadata": {},
   "outputs": [
    {
     "data": {
      "text/plain": [
       "5.002327011551432"
      ]
     },
     "execution_count": 16,
     "metadata": {},
     "output_type": "execute_result"
    }
   ],
   "source": [
    "# median of values\n",
    "\n",
    "np.percentile(values, 50)"
   ]
  },
  {
   "cell_type": "code",
   "execution_count": 18,
   "metadata": {},
   "outputs": [
    {
     "data": {
      "text/plain": [
       "7.597039370047054"
      ]
     },
     "execution_count": 18,
     "metadata": {},
     "output_type": "execute_result"
    }
   ],
   "source": [
    "# 90th percentile point, i.e, 10% of the data are greater than this value\n",
    "\n",
    "np.percentile(values, 90)"
   ]
  },
  {
   "cell_type": "code",
   "execution_count": 19,
   "metadata": {},
   "outputs": [
    {
     "data": {
      "text/plain": [
       "3.310997664284223"
      ]
     },
     "execution_count": 19,
     "metadata": {},
     "output_type": "execute_result"
    }
   ],
   "source": [
    "# 90th percentile point, i.e, 20% of the data are less than this value\n",
    "\n",
    "np.percentile(values, 20)"
   ]
  },
  {
   "cell_type": "code",
   "execution_count": null,
   "metadata": {},
   "outputs": [],
   "source": []
  }
 ],
 "metadata": {
  "kernelspec": {
   "display_name": "Python 3",
   "language": "python",
   "name": "python3"
  },
  "language_info": {
   "codemirror_mode": {
    "name": "ipython",
    "version": 3
   },
   "file_extension": ".py",
   "mimetype": "text/x-python",
   "name": "python",
   "nbconvert_exporter": "python",
   "pygments_lexer": "ipython3",
   "version": "3.7.4"
  }
 },
 "nbformat": 4,
 "nbformat_minor": 1
}
